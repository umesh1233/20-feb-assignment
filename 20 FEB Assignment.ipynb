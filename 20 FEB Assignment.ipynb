{
 "cells": [
  {
   "cell_type": "code",
   "execution_count": null,
   "id": "120b8e43-cc8b-46aa-ac0b-2524b17d2870",
   "metadata": {},
   "outputs": [],
   "source": [
    "#Q.1\n",
    "GET:GET is used to request data from a specified resource.\n",
    "\n",
    "POST:POST is used to send data to a server to create/update a resource."
   ]
  },
  {
   "cell_type": "code",
   "execution_count": null,
   "id": "c4073c25-1c5f-4056-9bcd-fed7d84dc2a7",
   "metadata": {},
   "outputs": [],
   "source": [
    "#Q.2:\n",
    "When the Flask application handles a request, it creates a Request object based on the environment it received from\n",
    "the WSGI server. Because a worker (thread, process, or coroutine depending on the server) handles\n",
    "only one request at a time, the request data can be considered global to that worker during that request."
   ]
  },
  {
   "cell_type": "code",
   "execution_count": null,
   "id": "ded835cf-5a96-4ed1-acf8-b0bac5669998",
   "metadata": {},
   "outputs": [],
   "source": [
    "#Q.3\n",
    "Flask class has a redirect() function. When called, it returns a response object and\n",
    "redirects the user to another target location with specified status code.\n",
    "location parameter is the URL where response should be redirected."
   ]
  },
  {
   "cell_type": "code",
   "execution_count": null,
   "id": "5b798fab-e228-4be5-8689-642c8fdf16fb",
   "metadata": {},
   "outputs": [],
   "source": [
    "#Q.4\n",
    "render_template is a Flask function from the flask. \n",
    "templating package. render_template is used to generate output from a template file based on the Jinja2\n",
    "engine that is found in the application's templates folder.\n",
    "Note that render_template is typically imported directly from the flask package instead of from flask."
   ]
  },
  {
   "cell_type": "code",
   "execution_count": null,
   "id": "06bd40ab-5ce4-4797-8ed3-f5baab58af9f",
   "metadata": {},
   "outputs": [],
   "source": [
    "#Q.5\n"
   ]
  }
 ],
 "metadata": {
  "kernelspec": {
   "display_name": "Python 3 (ipykernel)",
   "language": "python",
   "name": "python3"
  },
  "language_info": {
   "codemirror_mode": {
    "name": "ipython",
    "version": 3
   },
   "file_extension": ".py",
   "mimetype": "text/x-python",
   "name": "python",
   "nbconvert_exporter": "python",
   "pygments_lexer": "ipython3",
   "version": "3.10.8"
  }
 },
 "nbformat": 4,
 "nbformat_minor": 5
}
